{
 "cells": [
  {
   "cell_type": "code",
   "execution_count": 1,
   "id": "5a3634b7-096b-4000-89f5-f3d745f8cb32",
   "metadata": {},
   "outputs": [
    {
     "name": "stdout",
     "output_type": "stream",
     "text": [
      "[1 2 3]\n",
      "2\n"
     ]
    }
   ],
   "source": [
    "import numpy as np \n",
    "a = np.array([1, 2, 3])\n",
    "print(a)\n",
    "element = a[1]\n",
    "print(element)"
   ]
  },
  {
   "cell_type": "code",
   "execution_count": 5,
   "id": "baef7b0d-54c4-47c1-b175-3af2bf34c12c",
   "metadata": {},
   "outputs": [
    {
     "name": "stdout",
     "output_type": "stream",
     "text": [
      "Matrix:\n",
      "[[1 2 3]\n",
      " [4 5 6]\n",
      " [7 8 9]]\n",
      "1\n"
     ]
    }
   ],
   "source": [
    "matrix = np.array([[1, 2, 3], [4, 5, 6], [7, 8, 9]])\n",
    "print('Matrix:')\n",
    "print(matrix)\n",
    "\n",
    "element = matrix[0, 0]\n",
    "print(element)"
   ]
  },
  {
   "cell_type": "code",
   "execution_count": 17,
   "id": "3e8df304-5215-4248-83cb-b2221f5215ce",
   "metadata": {},
   "outputs": [
    {
     "name": "stdout",
     "output_type": "stream",
     "text": [
      "[0. 0. 0. 0.]\n",
      "[1. 1. 1. 1.]\n",
      "[1. 1. 1. 1.]\n",
      "[0 1 2 3 4 5 6 7 8 9]\n",
      "[ 0.  2.  4.  6.  8. 10.]\n"
     ]
    },
    {
     "data": {
      "text/plain": [
       "array([1, 1, 1, 1, 1], dtype=int64)"
      ]
     },
     "execution_count": 17,
     "metadata": {},
     "output_type": "execute_result"
    }
   ],
   "source": [
    "a = np.zeros(4)\n",
    "print(a)\n",
    "\n",
    "a = np.ones(4)\n",
    "print(a)\n",
    "\n",
    "a = np.empty(4)\n",
    "print(a)\n",
    "\n",
    "a = np.arange(10)\n",
    "print(a)\n",
    "\n",
    "a = np.linspace(0, 10, num=6)\n",
    "print(a)\n",
    "\n",
    "a = np.ones(5, dtype = np.int64)\n",
    "a"
   ]
  },
  {
   "cell_type": "code",
   "execution_count": null,
   "id": "ab6249c0-0a12-4c2f-95df-e825dd0b1384",
   "metadata": {},
   "outputs": [],
   "source": []
  }
 ],
 "metadata": {
  "kernelspec": {
   "display_name": "Python 3 (ipykernel)",
   "language": "python",
   "name": "python3"
  },
  "language_info": {
   "codemirror_mode": {
    "name": "ipython",
    "version": 3
   },
   "file_extension": ".py",
   "mimetype": "text/x-python",
   "name": "python",
   "nbconvert_exporter": "python",
   "pygments_lexer": "ipython3",
   "version": "3.12.4"
  }
 },
 "nbformat": 4,
 "nbformat_minor": 5
}
