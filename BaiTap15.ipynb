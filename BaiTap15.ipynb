{
 "cells": [
  {
   "cell_type": "code",
   "execution_count": 7,
   "id": "0f96942b-3254-4614-88cb-78a4dbccfa02",
   "metadata": {},
   "outputs": [
    {
     "name": "stdout",
     "output_type": "stream",
     "text": [
      "Ket qua:  [ 3. -1.]\n"
     ]
    }
   ],
   "source": [
    "#giai he phuong trnh tuyen tinh\n",
    "#!pip install scipy\n",
    "from scipy import linalg\n",
    "import numpy as np\n",
    "\n",
    "#dingh nghia he phuong trinh tuyen tinh\n",
    "A = np.array([[2, 1], [3, 2]])\n",
    "b = np.array([5, 7])\n",
    "\n",
    "#giai he phuong trinh tuyen tinh\n",
    "x = linalg.solve(A, b)\n",
    "print('Ket qua: ', x)"
   ]
  },
  {
   "cell_type": "code",
   "execution_count": 14,
   "id": "c2f45acb-b9a8-486f-b41a-d66199d85b2c",
   "metadata": {},
   "outputs": [
    {
     "name": "stdout",
     "output_type": "stream",
     "text": [
      "Tich phan f(x) tu 0 den 1:  (0.33333333333333337, 3.700743415417189e-15)\n"
     ]
    }
   ],
   "source": [
    "#Tinh tích phan cua mot ham so\n",
    "from scipy import integrate\n",
    "\n",
    "#dinh nghia ham f(x) = x^2\n",
    "def my_function(x):\n",
    "    return x**2\n",
    "\n",
    "#tinh tich phan cua f(x) tu 0 den 1\n",
    "integral = integrate.quad(my_function, 0, 1);\n",
    "print('Tich phan f(x) tu 0 den 1: ', integral)"
   ]
  },
  {
   "cell_type": "code",
   "execution_count": 22,
   "id": "b01bdeac-341c-4f3f-a5b7-879956b6a1af",
   "metadata": {},
   "outputs": [
    {
     "name": "stdout",
     "output_type": "stream",
     "text": [
      "Gia tri rieng:  [3.73205081+0.j 0.26794919+0.j]\n",
      "Vector rieng:  [[ 0.5       -0.5      ]\n",
      " [ 0.8660254  0.8660254]]\n"
     ]
    }
   ],
   "source": [
    "from scipy import linalg \n",
    "import numpy as np\n",
    "\n",
    "#tinh gia trị rieng va vector rieng cua mot ma tran:\n",
    "A = np.array([[2, 1], [3, 2]])\n",
    "\n",
    "#tinh gia tri rieng va vector rieng cua ma tran\n",
    "evals, evecs = linalg.eig(A)\n",
    "\n",
    "print('Gia tri rieng: ', evals)\n",
    "print('Vector rieng: ', evecs)"
   ]
  }
 ],
 "metadata": {
  "kernelspec": {
   "display_name": "Python 3 (ipykernel)",
   "language": "python",
   "name": "python3"
  },
  "language_info": {
   "codemirror_mode": {
    "name": "ipython",
    "version": 3
   },
   "file_extension": ".py",
   "mimetype": "text/x-python",
   "name": "python",
   "nbconvert_exporter": "python",
   "pygments_lexer": "ipython3",
   "version": "3.12.4"
  }
 },
 "nbformat": 4,
 "nbformat_minor": 5
}
