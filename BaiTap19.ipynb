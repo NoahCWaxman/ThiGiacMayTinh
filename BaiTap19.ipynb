{
 "cells": [
  {
   "cell_type": "code",
   "execution_count": 16,
   "id": "605090b4-1740-49ee-ab1c-9f789b18c12f",
   "metadata": {},
   "outputs": [],
   "source": [
    "#!pip install opencv-python"
   ]
  },
  {
   "cell_type": "code",
   "execution_count": 18,
   "id": "7deeea80-9c8f-454a-a37f-19934acf6b7e",
   "metadata": {},
   "outputs": [],
   "source": [
    "def display(title, img):\n",
    "    cv2.imshow(title, img)\n",
    "    #cho mot khoang thoi gian\n",
    "    cv2.waitKey(0)\n",
    "    #dong Window\n",
    "    cv2.destroyWindow(title)"
   ]
  },
  {
   "cell_type": "code",
   "execution_count": 8,
   "id": "38a5f73c-0172-4043-8c3f-13a197352284",
   "metadata": {},
   "outputs": [],
   "source": [
    "import cv2"
   ]
  },
  {
   "cell_type": "code",
   "execution_count": 24,
   "id": "12d5c8cf-37e4-4f68-9765-67a9c05fb67e",
   "metadata": {},
   "outputs": [
    {
     "name": "stdout",
     "output_type": "stream",
     "text": [
      "[[[156  95   0]\n",
      "  [156  97   0]\n",
      "  [155 100   0]\n",
      "  ...\n",
      "  [157 108   0]\n",
      "  [161 101  11]\n",
      "  [163  97  18]]\n",
      "\n",
      " [[163 102   0]\n",
      "  [162 103   0]\n",
      "  [159 104   0]\n",
      "  ...\n",
      "  [157 109   0]\n",
      "  [161 101  11]\n",
      "  [163  98  17]]\n",
      "\n",
      " [[165 106   0]\n",
      "  [163 105   0]\n",
      "  [160 105   1]\n",
      "  ...\n",
      "  [160 110   0]\n",
      "  [164 103   9]\n",
      "  [165 100  15]]\n",
      "\n",
      " ...\n",
      "\n",
      " [[ 81  69   0]\n",
      "  [ 91  79   7]\n",
      "  [ 91  83   6]\n",
      "  ...\n",
      "  [ 51  47   0]\n",
      "  [ 78  77  21]\n",
      "  [105 107  48]]\n",
      "\n",
      " [[ 89  77   5]\n",
      "  [ 94  85  11]\n",
      "  [ 91  86   7]\n",
      "  ...\n",
      "  [ 51  37   0]\n",
      "  [ 72  55   4]\n",
      "  [ 99  81  28]]\n",
      "\n",
      " [[ 90  78   6]\n",
      "  [ 92  83   9]\n",
      "  [ 90  85   6]\n",
      "  ...\n",
      "  [ 45  28   0]\n",
      "  [ 66  40   0]\n",
      "  [ 91  61  12]]]\n"
     ]
    }
   ],
   "source": [
    "path = 'C:/Users/quocl/anacondaPicture/pic8.jpg'\n",
    "img = cv2.imread(path)\n",
    "print(img)"
   ]
  },
  {
   "cell_type": "code",
   "execution_count": 32,
   "id": "684a978d-3e83-4182-bbf4-15705dc406c7",
   "metadata": {},
   "outputs": [
    {
     "name": "stdout",
     "output_type": "stream",
     "text": [
      "(224, 224, 3)\n",
      "224\n",
      "224\n",
      "3\n"
     ]
    }
   ],
   "source": [
    "print(img.shape)\n",
    "x, y, z = img.shape\n",
    "print(x)\n",
    "print(y)\n",
    "print(z)"
   ]
  },
  {
   "cell_type": "code",
   "execution_count": 34,
   "id": "ebd2d385-1cc9-4f1c-89d1-609aba0341f3",
   "metadata": {},
   "outputs": [],
   "source": [
    "#hien thi anh\n",
    "cv2.imshow('Window', img)\n",
    "#cho mot khoang thoi gian\n",
    "cv2.waitKey(1000)\n",
    "#dong Window\n",
    "cv2.destroyWindow('Window')"
   ]
  },
  {
   "cell_type": "code",
   "execution_count": 36,
   "id": "d03e5e47-a7bc-448b-afba-8697b077da20",
   "metadata": {},
   "outputs": [],
   "source": [
    "#tach mau\n",
    "b, g, r = cv2.split(img)\n",
    "cv2.imshow('Window', img)\n",
    "cv2.imshow('red', r)\n",
    "cv2.imshow('Green', g)\n",
    "cv2.imshow('Blue', b)\n",
    "\n",
    "#cho mot khoang thoi gian\n",
    "cv2.waitKey(0)\n",
    "#dong Window\n",
    "cv2.destroyAllWindows()"
   ]
  },
  {
   "cell_type": "code",
   "execution_count": 41,
   "id": "263a6d13-e9de-4485-b6a9-373ab1ae8a41",
   "metadata": {},
   "outputs": [],
   "source": [
    "gray_img = cv2.cvtColor(img, cv2.COLOR_BGR2GRAY)\n",
    "img_2 = cv2.cvtColor(img, cv2.COLOR_BGR2RGB)\n",
    "cv2.imshow('Window', img)\n",
    "cv2.imshow('gray_img', gray_img)\n",
    "cv2.imshow('img_2', img_2)\n",
    "#cho mot khoang thoi gian\n",
    "cv2.waitKey(0)\n",
    "#dong Window\n",
    "cv2.destroyAllWindows()"
   ]
  },
  {
   "cell_type": "code",
   "execution_count": null,
   "id": "eae51496-9b1a-4416-8975-624c13ae8b85",
   "metadata": {},
   "outputs": [],
   "source": [
    "#Thay doi thong so diem anh"
   ]
  }
 ],
 "metadata": {
  "kernelspec": {
   "display_name": "Python 3 (ipykernel)",
   "language": "python",
   "name": "python3"
  },
  "language_info": {
   "codemirror_mode": {
    "name": "ipython",
    "version": 3
   },
   "file_extension": ".py",
   "mimetype": "text/x-python",
   "name": "python",
   "nbconvert_exporter": "python",
   "pygments_lexer": "ipython3",
   "version": "3.12.4"
  }
 },
 "nbformat": 4,
 "nbformat_minor": 5
}
