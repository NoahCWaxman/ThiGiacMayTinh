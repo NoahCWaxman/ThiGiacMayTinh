{
 "cells": [
  {
   "cell_type": "code",
   "execution_count": 3,
   "id": "ee4fa40a-051e-4864-901c-88f0e8bf72bd",
   "metadata": {},
   "outputs": [],
   "source": [
    "import cv2\n",
    "import numpy as np"
   ]
  },
  {
   "cell_type": "code",
   "execution_count": 5,
   "id": "f30b9388-6f5d-4251-bfbc-711427836e7d",
   "metadata": {},
   "outputs": [],
   "source": [
    "def display(title, img):\n",
    "    cv2.imshow(title, img)\n",
    "    #cho mot khoang thoi gian\n",
    "    cv2.waitKey(0)\n",
    "    #dong Window\n",
    "    cv2.destroyWindow(title)"
   ]
  },
  {
   "cell_type": "code",
   "execution_count": 7,
   "id": "b824c5eb-e60b-487a-9b2e-ba0f28f57f63",
   "metadata": {},
   "outputs": [],
   "source": [
    "#Tao mot anh\n",
    "img = np.zeros((400, 400, 3), dtype=np.uint8)\n",
    "display('Image', img)"
   ]
  },
  {
   "cell_type": "code",
   "execution_count": 8,
   "id": "6429e8d8-f114-4048-8b0a-119becb36412",
   "metadata": {},
   "outputs": [],
   "source": [
    "#Ve duong thang \n",
    "cv2.line(img, (50, 50), (390, 50), (0, 0, 255), 2)\n",
    "display('Image', img)"
   ]
  },
  {
   "cell_type": "code",
   "execution_count": 11,
   "id": "71a7909f-a88c-4a73-9783-5193b2fbe373",
   "metadata": {},
   "outputs": [],
   "source": [
    "#Ve hinh tron \n",
    "cv2.circle(img, (100, 100), 50, (0, 255, 255), -1)\n",
    "display('Image', img)"
   ]
  },
  {
   "cell_type": "code",
   "execution_count": 13,
   "id": "cc2d8635-370b-46c3-9a49-0e5fd014ace6",
   "metadata": {},
   "outputs": [],
   "source": [
    "#Ve duong chu nhat\n",
    "cv2.rectangle(img, (100, 100), (300, 300), (255, 0, 0), -1)\n",
    "display('Image', img)"
   ]
  },
  {
   "cell_type": "code",
   "execution_count": 15,
   "id": "97ad34ce-e6be-432e-82be-f0b22f3a05fe",
   "metadata": {},
   "outputs": [],
   "source": [
    "#ghi text tren hinh anh\n",
    "content =  'Tran Quoc Lam'\n",
    "font = cv2.FONT_HERSHEY_SIMPLEX\n",
    "cv2.putText(img, content, (10, 300), font, 0.6, (255, 255, 255), 2)\n",
    "display('Image', img)"
   ]
  }
 ],
 "metadata": {
  "kernelspec": {
   "display_name": "Python 3 (ipykernel)",
   "language": "python",
   "name": "python3"
  },
  "language_info": {
   "codemirror_mode": {
    "name": "ipython",
    "version": 3
   },
   "file_extension": ".py",
   "mimetype": "text/x-python",
   "name": "python",
   "nbconvert_exporter": "python",
   "pygments_lexer": "ipython3",
   "version": "3.12.4"
  }
 },
 "nbformat": 4,
 "nbformat_minor": 5
}
