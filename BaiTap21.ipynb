{
 "cells": [
  {
   "cell_type": "code",
   "execution_count": 19,
   "id": "ac9cb744-2a01-4a9f-a31c-64fbf581a7fb",
   "metadata": {},
   "outputs": [],
   "source": [
    "import cv2"
   ]
  },
  {
   "cell_type": "code",
   "execution_count": 21,
   "id": "7cab0ac0-9a20-41cd-a1be-5e56efc92bbe",
   "metadata": {},
   "outputs": [],
   "source": [
    "#doc video tu file\n",
    "my_video = cv2.VideoCapture('C:/Users/quocl/anacondaPicture/clip1.mp4')"
   ]
  },
  {
   "cell_type": "code",
   "execution_count": 23,
   "id": "9d1cab2c-162f-48f2-b0f6-24a860c31ae5",
   "metadata": {},
   "outputs": [],
   "source": [
    "#tao cua so de hien thi\n",
    "cv2.namedWindow('Clip Vip pro', cv2.WINDOW_NORMAL)"
   ]
  },
  {
   "cell_type": "code",
   "execution_count": 25,
   "id": "7a91d3c0-c613-4ae2-adf1-b5722c579520",
   "metadata": {},
   "outputs": [],
   "source": [
    "#Hien thi tung khung anh\n",
    "while True:\n",
    "    #doc 1 frame\n",
    "    ret, frame = my_video.read()\n",
    "\n",
    "    #thoat khi khong the doc duoc frame\n",
    "    if not ret:\n",
    "        break\n",
    "\n",
    "    #hien thi\n",
    "    cv2.imshow('Clip Vip pro', frame)\n",
    "\n",
    "    if(cv2.waitKey(10)==ord('q')):\n",
    "        break"
   ]
  },
  {
   "cell_type": "code",
   "execution_count": 29,
   "id": "2285d859-8697-41a8-9d0e-0d4100b7bb25",
   "metadata": {},
   "outputs": [],
   "source": [
    "#Huy bo player\n",
    "my_video.release\n",
    "cv2.destroyAllWindows()"
   ]
  },
  {
   "cell_type": "code",
   "execution_count": null,
   "id": "22533396-a283-4e90-a72d-524b885ba2a0",
   "metadata": {},
   "outputs": [],
   "source": []
  }
 ],
 "metadata": {
  "kernelspec": {
   "display_name": "Python 3 (ipykernel)",
   "language": "python",
   "name": "python3"
  },
  "language_info": {
   "codemirror_mode": {
    "name": "ipython",
    "version": 3
   },
   "file_extension": ".py",
   "mimetype": "text/x-python",
   "name": "python",
   "nbconvert_exporter": "python",
   "pygments_lexer": "ipython3",
   "version": "3.12.4"
  }
 },
 "nbformat": 4,
 "nbformat_minor": 5
}
