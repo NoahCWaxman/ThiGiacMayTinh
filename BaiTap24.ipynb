{
 "cells": [
  {
   "cell_type": "code",
   "execution_count": 1,
   "id": "f07b8dfc-2395-49c4-9be6-37110bb1518c",
   "metadata": {},
   "outputs": [],
   "source": [
    "import cv2\n",
    "import time"
   ]
  },
  {
   "cell_type": "code",
   "execution_count": 3,
   "id": "6e658988-3f24-47c1-ad6b-419eb7e66dcd",
   "metadata": {},
   "outputs": [],
   "source": [
    "#doc video tu file\n",
    "camera = cv2.VideoCapture(0)"
   ]
  },
  {
   "cell_type": "code",
   "execution_count": 4,
   "id": "35d85ee9-58e3-4f2f-a17e-099af03bf214",
   "metadata": {},
   "outputs": [],
   "source": [
    "#tao cua so de hien thi\n",
    "cv2.namedWindow('clip vippro', cv2.WINDOW_NORMAL)\n",
    "#\n",
    "interval = 30\n",
    "count = 0"
   ]
  },
  {
   "cell_type": "code",
   "execution_count": 7,
   "id": "df7c22f6-70e0-445d-a412-864b52aea815",
   "metadata": {},
   "outputs": [],
   "source": [
    "#Ghi text tren hinh anh\n",
    "font = cv2.FONT_HERSHEY_SIMPLEX\n",
    "font_color = (255, 255, 255)\n",
    "font_scale = 1\n",
    "font_thicknes = 2"
   ]
  },
  {
   "cell_type": "code",
   "execution_count": 9,
   "id": "7c772f28-70ee-4eca-909a-5a4dc5df3670",
   "metadata": {},
   "outputs": [],
   "source": [
    "#hien thi tung khung anh\n",
    "while True:\n",
    "    #thoi gian truoc khi doc\n",
    "    start_time = time.time()\n",
    "    #doc 1 frame\n",
    "    ret, frame = camera.read()\n",
    "    #thoat khi khong the doc duoc frame\n",
    "    if not ret:\n",
    "        break\n",
    "    #tang count + 1\n",
    "    count = count + 1\n",
    "    #dinh ky luu anh xuong\n",
    "    if(count%interval==0):\n",
    "        cv2.imwrite(f'C:/Users/quocl/anacondaPicture/image_{count}.jpg', frame)\n",
    "        \n",
    "    #thoi gian truoc khi doc\n",
    "    end_time = time.time()\n",
    "    #Tinh FPS:\n",
    "    fps = 1/(end_time-start_time)\n",
    "    #Ghi so luong FPS\n",
    "    cv2.putText(frame, f'FPS: {fps:.2f}', (100, 100), font, font_scale, font_color, font_thicknes)\n",
    "    #hien thi\n",
    "    cv2.imshow('clip vippro', frame)\n",
    "    if(cv2.waitKey(10)==ord('q')):\n",
    "        break\n",
    "\n",
    "#huy bo player\n",
    "camera.release()\n",
    "cv2.destroyAllWindows()"
   ]
  }
 ],
 "metadata": {
  "kernelspec": {
   "display_name": "Python 3 (ipykernel)",
   "language": "python",
   "name": "python3"
  },
  "language_info": {
   "codemirror_mode": {
    "name": "ipython",
    "version": 3
   },
   "file_extension": ".py",
   "mimetype": "text/x-python",
   "name": "python",
   "nbconvert_exporter": "python",
   "pygments_lexer": "ipython3",
   "version": "3.12.4"
  }
 },
 "nbformat": 4,
 "nbformat_minor": 5
}
