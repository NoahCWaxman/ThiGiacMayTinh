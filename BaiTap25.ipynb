{
 "cells": [
  {
   "cell_type": "code",
   "execution_count": 3,
   "id": "abb2cf6c-715d-477c-bac8-ef28be31a85f",
   "metadata": {},
   "outputs": [],
   "source": [
    "import cv2"
   ]
  },
  {
   "cell_type": "code",
   "execution_count": 5,
   "id": "2618547e-df70-4795-88d7-15826a295655",
   "metadata": {},
   "outputs": [],
   "source": [
    "def display(title, img):\n",
    "    cv2.imshow(title, img)\n",
    "    #cho mot khoang thoi gian\n",
    "    cv2.waitKey(0)\n",
    "    #dong window\n",
    "    cv2.destroyWindow(title)"
   ]
  },
  {
   "cell_type": "code",
   "execution_count": 11,
   "id": "996148e9-3f99-4cc3-9106-ccf098b3b496",
   "metadata": {},
   "outputs": [],
   "source": [
    "#khoi tao haar cascade classifier cho nhan dien khuon mat\n",
    "face_cascade = cv2.CascadeClassifier('C:/Users/quocl/anacondaPicture/haarcascade_frontalface_default.xml')\n",
    "eye_cascade = cv2.CascadeClassifier('C:/Users/quocl/anacondaPicture/haarcascade_eye_tree_eyeglasses.xml')"
   ]
  },
  {
   "cell_type": "code",
   "execution_count": 13,
   "id": "4f3529b6-6d5f-4ced-802f-e3dd4b373f4f",
   "metadata": {},
   "outputs": [],
   "source": [
    "#doc anh\n",
    "img = cv2.imread('C:/Users/quocl/anacondaPicture/People.jpg')"
   ]
  },
  {
   "cell_type": "code",
   "execution_count": 15,
   "id": "573f0fa5-d8ea-4185-b20d-c7382a512941",
   "metadata": {},
   "outputs": [],
   "source": [
    "#chuyen sang anh xam\n",
    "gray = cv2.cvtColor(img, cv2.COLOR_BGR2GRAY)"
   ]
  },
  {
   "cell_type": "code",
   "execution_count": 17,
   "id": "fc63a612-67db-41e3-9452-206bf718c1ce",
   "metadata": {},
   "outputs": [],
   "source": [
    "#nhan dien khuon mat\n",
    "faces = face_cascade.detectMultiScale(gray, scaleFactor = 1.1, minNeighbors=5, minSize=(30, 30))"
   ]
  },
  {
   "cell_type": "code",
   "execution_count": 27,
   "id": "b93ec782-2be5-4b92-8e01-f1685a173d21",
   "metadata": {},
   "outputs": [],
   "source": [
    "#nhan dien mat\n",
    "eyes = eye_cascade.detectMultiScale(gray, scaleFactor=1.1, minNeighbors=1, minSize=(5, 5))"
   ]
  },
  {
   "cell_type": "code",
   "execution_count": 31,
   "id": "4c55be15-f4d6-430e-a434-9459ff0cb6d6",
   "metadata": {},
   "outputs": [],
   "source": [
    "#ve hop chua khuon mat\n",
    "for (x, y, w, h) in faces:\n",
    "    cv2.rectangle(img, (x, y), (x+w, y+h), (0, 255, 0), 2)"
   ]
  },
  {
   "cell_type": "code",
   "execution_count": 33,
   "id": "aca36e12-4a31-4aa5-9d71-9ba195460332",
   "metadata": {},
   "outputs": [],
   "source": [
    "#ve hop chua khuon mat\n",
    "for (x, y, w, h) in eyes:\n",
    "    cv2.rectangle(img, (x, y), (x+w, y+h), (255, 0, 0), 2)"
   ]
  },
  {
   "cell_type": "code",
   "execution_count": 37,
   "id": "59656f12-7f7e-4e8e-be3d-269b441ab189",
   "metadata": {},
   "outputs": [],
   "source": [
    "display('Faces: ', img)"
   ]
  },
  {
   "cell_type": "code",
   "execution_count": null,
   "id": "4e6bbc73-f993-4329-8fe5-fa72abe4be8b",
   "metadata": {},
   "outputs": [],
   "source": []
  }
 ],
 "metadata": {
  "kernelspec": {
   "display_name": "Python 3 (ipykernel)",
   "language": "python",
   "name": "python3"
  },
  "language_info": {
   "codemirror_mode": {
    "name": "ipython",
    "version": 3
   },
   "file_extension": ".py",
   "mimetype": "text/x-python",
   "name": "python",
   "nbconvert_exporter": "python",
   "pygments_lexer": "ipython3",
   "version": "3.12.4"
  }
 },
 "nbformat": 4,
 "nbformat_minor": 5
}
